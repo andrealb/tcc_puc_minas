{
 "cells": [
  {
   "cell_type": "code",
   "execution_count": null,
   "metadata": {},
   "outputs": [],
   "source": [
    "import pandas as pd\n",
    "\n",
    "raw_data = pd.read_csv(r'.\\Datasets\\data.csv')\n",
    "raw_data.info()"
   ]
  },
  {
   "cell_type": "code",
   "execution_count": null,
   "metadata": {},
   "outputs": [],
   "source": [
    "from sklearn.preprocessing import OneHotEncoder\n",
    "\n",
    "encoder = OneHotEncoder()\n",
    "encoder.fit(np.array(raw_data['zip_code']).reshape(-1, 1))\n",
    "new_cols = pd.DataFrame(encoder\n",
    "                         .transform(np.array(raw_data['zip_code'])\n",
    "                                    .reshape(-1, 1))\n",
    "                         .toarray().astype('int64'),\n",
    "                         columns=encoder.categories_[0])\n",
    "raw_data = raw_data.join(new_cols)"
   ]
  },
  {
   "cell_type": "code",
   "execution_count": null,
   "metadata": {},
   "outputs": [],
   "source": [
    "raw_data['Phone'] = raw_data.channel.apply(lambda x: 1 if x != 'Web' else 0)\n",
    "raw_data['Web'] = raw_data.channel.apply(lambda x: 1 if x != 'Phone' else 0)"
   ]
  },
  {
   "cell_type": "code",
   "execution_count": null,
   "metadata": {},
   "outputs": [],
   "source": [
    "raw_data['treatment'] = raw_data.offer.apply(lambda x: 1 if x != 'No Offer' else 0)"
   ]
  },
  {
   "cell_type": "code",
   "execution_count": null,
   "metadata": {},
   "outputs": [],
   "source": [
    "converted = raw_data[raw_data['conversion'] == 1].copy().reset_index()\n",
    "converted.info()"
   ]
  },
  {
   "cell_type": "code",
   "execution_count": null,
   "metadata": {},
   "outputs": [],
   "source": [
    "import matplotlib.pyplot as plt\n",
    "\n",
    "plt.title('Proporção entre clientes convertidos e não convertidos')\n",
    "raw_data['conversion'].value_counts().plot(kind='bar')\n",
    "print(raw_data['conversion'].value_counts())"
   ]
  },
  {
   "cell_type": "code",
   "execution_count": null,
   "metadata": {},
   "outputs": [],
   "source": [
    "plt.title(Proporção de clientes que receberam ou não uma oferta')\n",
    "raw_data[treatment].value_counts().plot(kind='bar')\n",
    "print(raw_data[treatment].value_counts())"
   ]
  },
  {
   "cell_type": "code",
   "execution_count": null,
   "metadata": {},
   "outputs": [],
   "source": [
    "from sklearn.metrics import confusion_matrix\n",
    "\n",
    "pd.DataFrame(confusion_matrix(raw_data['treatment'], raw_data['conversion']))"
   ]
  },
  {
   "cell_type": "code",
   "execution_count": null,
   "metadata": {},
   "outputs": [],
   "source": [
    "print(f'Receita total: $ {raw_data.history.sum():,.2f}')\n",
    "print(f'Receita de clientes convertidos: $ {converted.history.sum():,.2f}')"
   ]
  },
  {
   "cell_type": "code",
   "execution_count": null,
   "metadata": {},
   "outputs": [],
   "source": [
    "from scipy.stats import ttest_ind\n",
    "\n",
    "df_control = raw_data[raw_data.treatment==0]\n",
    "df_treatment = raw_data[raw_data.treatment==1]\n",
    "\n",
    "print(f'média controle: {df_control.conversion.mean()}',\n",
    "        f'média tratamento: {df_treatment.conversion.mean()}')\n",
    "\n",
    "# comparando amostras\n",
    "_, p = ttest_ind(df_control.conversion, df_treatment.conversion)\n",
    "print(f'p={p:.3f}')\n",
    "\n",
    "# interpretação\n",
    "alpha = 0.05  # nível de significância\n",
    "if p > alpha:\n",
    "    print('sem evidências suficientes para rejeitar H0 - não se pode afirmar que as médias são estatisticamente diferentes')\n",
    "else:\n",
    "    print('H0 rejeitado - médias são estatisticamente diferentes')"
   ]
  },
  {
   "cell_type": "code",
   "execution_count": null,
   "metadata": {},
   "outputs": [],
   "source": [
    "print(f'média controle: {df_control.history.mean()}',\n",
    "        f'média tratamento: {df_treatment.history.mean()}')\n",
    "\n",
    "# comparando amostras\n",
    "_, p = ttest_ind(df_control.history, df_treatment.history)\n",
    "print(f'p={p:.3f}')\n",
    "\n",
    "# interpretação\n",
    "alpha = 0.05  # nível de significância\n",
    "if p > alpha:\n",
    "    print('sem evidências suficientes para rejeitar H0 - não se pode afirmar que as médias são estatisticamente diferentes')\n",
    "else:\n",
    "    print('H0 rejeitado - médias são estatisticamente diferentes')"
   ]
  },
  {
   "cell_type": "code",
   "execution_count": null,
   "metadata": {},
   "outputs": [],
   "source": [
    "import numpy as np\n",
    "\n",
    "correlation = raw_data.corr()\n",
    "\n",
    "mask = np.zeros_like(correlation, dtype=bool)\n",
    "mask[np.triu_indices_from(mask)] = True\n",
    "correlation[mask] = np.nan\n",
    "\n",
    "correlation \\\n",
    "    .style \\\n",
    "    .background_gradient(cmap='coolwarm', axis=None, vmin=-1, vmax=1) \\\n",
    "    .highlight_null(null_color='#f1f1f1') \\\n",
    "    .set_precision(2)"
   ]
  },
  {
   "cell_type": "code",
   "execution_count": null,
   "metadata": {},
   "outputs": [],
   "source": [
    "from sklearn.linear_model import LogisticRegression\n",
    "\n",
    "X = raw_data.drop(['zip_code', 'channel', 'offer', 'treatment', 'conversion'], axis=1)\n",
    "y = raw_data['treatment']\n",
    "\n",
    "lr = LogisticRegression(max_iter=1000)\n",
    "lr.fit(X, y)\n",
    "\n",
    "coeffs = pd.DataFrame({\n",
    "    'column': X.columns.to_numpy(),\n",
    "    'coeff': lr.coef_.ravel()\n",
    "})\n",
    "\n",
    "coeffs"
   ]
  },
  {
   "cell_type": "code",
   "execution_count": null,
   "metadata": {},
   "outputs": [],
   "source": [
    "import math\n",
    "\n",
    "pred_bin = lr.predict(X)\n",
    "pred_prob = lr.predict_proba(X)\n",
    "\n",
    "def logit(p):\n",
    "    logit_value = math.log(p / (1 - p))\n",
    "    return logit_value\n",
    "\n",
    "raw_data['ps'] = pred_prob[:, 1]\n",
    "raw_data['ps_logit'] = raw_data.ps.apply(lambda x: logit(x))\n",
    "\n",
    "sns.histplot(data=raw_data, x='ps', hue='treatment');"
   ]
  },
  {
   "cell_type": "code",
   "execution_count": null,
   "metadata": {},
   "outputs": [],
   "source": [
    "caliper = np.std(raw_data.ps) * 0.25\n",
    "print(f'calibre = {caliper:.4f}')\n",
    "\n",
    "n_neighbors = 10"
   ]
  },
  {
   "cell_type": "code",
   "execution_count": null,
   "metadata": {},
   "outputs": [],
   "source": [
    "from sklearn.neighbors import NearestNeighbors\n",
    "\n",
    "knn = NearestNeighbors(n_neighbors=10, radius=caliper)\n",
    "ps = raw_data[['ps']]\n",
    "knn.fit(ps)"
   ]
  },
  {
   "cell_type": "code",
   "execution_count": null,
   "metadata": {},
   "outputs": [],
   "source": [
    "distances, neighbor_indexes = knn.kneighbors(ps)\n",
    "\n",
    "matched_control = []\n",
    "for current_index, row in raw_data.iterrows():\n",
    "    if row.treatment == 0: \n",
    "        raw_data.loc[current_index, 'matched'] = np.nan\n",
    "    else: \n",
    "        for idx in neighbor_indexes[current_index, :]:\n",
    "            if (current_index != idx) and (raw_data.loc[idx].treatment == 0):\n",
    "                if idx not in matched_control:\n",
    "                    raw_data.loc[current_index, 'matched'] = idx \n",
    "                    matched_control.append(idx)\n",
    "                    break\n",
    "\n",
    "print('observações totais no grupo de abordados: ', len(raw_data[raw_data.treatment == 1]))\n",
    "print('observações totais no grupo controle: ', len(matched_control))"
   ]
  },
  {
   "cell_type": "code",
   "execution_count": null,
   "metadata": {},
   "outputs": [],
   "source": [
    "treatment_matched = raw_data.dropna(subset=['matched'])\n",
    "\n",
    "control_matched_idx = treatment_matched.matched\n",
    "control_matched_idx = control_matched_idx.astype(int) \n",
    "control_matched = raw_data.loc[control_matched_idx, :] \n",
    "\n",
    "df_matched = pd.concat([treatment_matched, control_matched])\n",
    "\n",
    "df_matched.treatment.value_counts()"
   ]
  },
  {
   "cell_type": "code",
   "execution_count": null,
   "metadata": {},
   "outputs": [],
   "source": [
    "print(f'média controle: {df_matched_control.conversion.mean()}',\n",
    "        f'média tratamento: {df_matched_treatment.conversion.mean()}')\n",
    "\n",
    "# comparando amostras\n",
    "_, p = ttest_ind(df_matched_control.conversion, df_matched_treatment.conversion)\n",
    "print(f'p={p:.3f}')\n",
    "\n",
    "# interpretação\n",
    "alpha = 0.05  # nível de significância\n",
    "if p > alpha:\n",
    "    print('sem evidências suficientes para rejeitar H0 - não se pode afirmar que as médias são estatisticamente diferentes')\n",
    "else:\n",
    "    print('H0 rejeitado - médias são estatisticamente diferentes')"
   ]
  },
  {
   "cell_type": "code",
   "execution_count": null,
   "metadata": {},
   "outputs": [],
   "source": [
    "df_matched_control = df_matched[df_matched.treatment==0]\n",
    "df_matched_treatment = df_matched[df_matched.treatment==1]\n",
    "\n",
    "print(f'média controle {df_matched_control.history.mean()}',\n",
    "      f'média tratamento {df_matched_treatment.history.mean()}')\n",
    "\n",
    "# comparando amostras\n",
    "_, p = ttest_ind(df_matched_control.history, df_matched_treatment.history)\n",
    "print(f'p={p:.3f}')\n",
    "\n",
    "# interpretação\n",
    "if p > alpha:\n",
    "    print('sem evidências suficientes para rejeitar H0 - não se pode afirmar que as médias são estatisticamente diferentes')\n",
    "else:\n",
    "    print('H0 rejeitado - médias são estatisticamente diferentes')"
   ]
  },
  {
   "cell_type": "code",
   "execution_count": null,
   "metadata": {},
   "outputs": [],
   "source": [
    "from sklearn.neighbors import NearestNeighbors\n",
    "\n",
    "knn = NearestNeighbors(n_neighbors=30, radius=caliper)\n",
    "ps = raw_data[['ps']]\n",
    "knn.fit(ps)"
   ]
  },
  {
   "cell_type": "code",
   "execution_count": null,
   "metadata": {},
   "outputs": [],
   "source": [
    "distances, neighbor_indexes = knn.kneighbors(ps)\n",
    "\n",
    "matched_control = []\n",
    "for current_index, row in raw_data.iterrows():\n",
    "    if row.treatment == 0: \n",
    "        raw_data.loc[current_index, 'matched'] = np.nan\n",
    "    else: \n",
    "        for idx in neighbor_indexes[current_index, :]:\n",
    "            if (current_index != idx) and (raw_data.loc[idx].treatment == 0):\n",
    "                if idx not in matched_control:\n",
    "                    raw_data.loc[current_index, 'matched'] = idx \n",
    "                    matched_control.append(idx)\n",
    "                    break\n",
    "\n",
    "print('observações totais no grupo de abordados: ', len(raw_data[raw_data.treatment == 1]))\n",
    "print('observações totais no grupo controle: ', len(matched_control))"
   ]
  },
  {
   "cell_type": "code",
   "execution_count": null,
   "metadata": {},
   "outputs": [],
   "source": [
    "treatment_matched = raw_data.dropna(subset=['matched'])\n",
    "\n",
    "control_matched_idx = treatment_matched.matched\n",
    "control_matched_idx = control_matched_idx.astype(int) \n",
    "control_matched = raw_data.loc[control_matched_idx, :] \n",
    "\n",
    "df_matched = pd.concat([treatment_matched, control_matched])\n",
    "\n",
    "df_matched.treatment.value_counts()"
   ]
  },
  {
   "cell_type": "code",
   "execution_count": null,
   "metadata": {},
   "outputs": [],
   "source": [
    "print(f'média controle: {df_matched_control.conversion.mean()}',\n",
    "        f'média tratamento: {df_matched_treatment.conversion.mean()}')\n",
    "\n",
    "# comparando amostras\n",
    "_, p = ttest_ind(df_matched_control.conversion, df_matched_treatment.conversion)\n",
    "print(f'p={p:.3f}')\n",
    "\n",
    "# interpretação\n",
    "alpha = 0.05  # nível de significância\n",
    "if p > alpha:\n",
    "    print('sem evidências suficientes para rejeitar H0 - não se pode afirmar que as médias são estatisticamente diferentes')\n",
    "else:\n",
    "    print('H0 rejeitado - médias são estatisticamente diferentes')"
   ]
  },
  {
   "cell_type": "code",
   "execution_count": null,
   "metadata": {},
   "outputs": [],
   "source": [
    "df_matched_control = df_matched[df_matched.treatment==0]\n",
    "df_matched_treatment = df_matched[df_matched.treatment==1]\n",
    "\n",
    "print(f'média controle {df_matched_control.history.mean()}',\n",
    "      f'média tratamento {df_matched_treatment.history.mean()}')\n",
    "\n",
    "# comparando amostras\n",
    "_, p = ttest_ind(df_matched_control.history, df_matched_treatment.history)\n",
    "print(f'p={p:.3f}')\n",
    "\n",
    "# interpretação\n",
    "if p > alpha:\n",
    "    print('sem evidências suficientes para rejeitar H0 - não se pode afirmar que as médias são estatisticamente diferentes')\n",
    "else:\n",
    "    print('H0 rejeitado - médias são estatisticamente diferentes')"
   ]
  }
 ],
 "metadata": {
  "language_info": {
   "name": "python"
  },
  "orig_nbformat": 4
 },
 "nbformat": 4,
 "nbformat_minor": 2
}
